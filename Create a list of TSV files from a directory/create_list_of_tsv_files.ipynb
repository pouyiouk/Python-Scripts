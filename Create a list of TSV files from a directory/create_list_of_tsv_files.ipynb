{
 "cells": [
  {
   "cell_type": "code",
   "execution_count": 67,
   "metadata": {},
   "outputs": [
    {
     "name": "stdout",
     "output_type": "stream",
     "text": [
      "----------------------------------------------------------------\n",
      "----------------------------------------------------------------\n",
      "----Saved list of current files----\n",
      "all_txn_2009.tsv\n",
      "all_blocks.tsv\n",
      "----------------------------------------------------------------\n",
      "----------------------------------------------------------------\n",
      "----New files in the directory and not saved to the list----\n",
      "['filename.txt', 'list_of_files.txt']\n",
      "----------------------------------------------------------------\n",
      "----------------------------------------------------------------\n",
      "----List is updating, please wait----\n",
      "----------------------------------------------------------------\n",
      "----------------------------------------------------------------\n",
      "----Updated List----\n",
      "all_txn_2009.tsv\n",
      "\n",
      "all_blocks.tsv\n",
      "\n",
      "filename.txt\n",
      "\n",
      "list_of_files.txt\n",
      "\n",
      "----------------------------------------------------------------\n",
      "----------------------------------------------------------------\n",
      "----Script End----\n"
     ]
    }
   ],
   "source": [
    "#--------------------------------------------------------------------------------\n",
    "#--------------------------------------------------------------------------------\n",
    "#-------Creating a list of TSV files and checking the list  if new filesare added to the directory--------\n",
    "import glob\n",
    "import sys\n",
    "import os\n",
    "#------------Selecting the folder for the specified files and extension\n",
    "os.chdir(\"YOUR_FILES_DIRECTORY_PATH\")\n",
    "#------------Creating the text file that will be used for our list\n",
    "list_write = open('NAME_OF_YOUR_LIST.txt', 'w')\n",
    "#------------Scanning the folder for the specified file extension and updating the text list\n",
    "print(\"----------------------------------------------------------------\")\n",
    "print(\"----------------------------------------------------------------\")\n",
    "print(\"----Saved list of current files----\")\n",
    "for file in glob.glob(\"*.tsv\"):\n",
    "    list_write.write(file + \"\\n\")\n",
    "    print(file)\n",
    "file_write.close()\n",
    "print(\"----------------------------------------------------------------\")\n",
    "print(\"----------------------------------------------------------------\")\n",
    "#------------Comparing our text list to the directory list\n",
    "directory_path = \"YOUR_FILES_DIRECTORY_PATH\"\n",
    "list_path = \"YOUR_LIST_NAME_DIRECTORY_PATH.txt\" #Here replace with the full path of the file\n",
    "dir_path =  os.listdir(directory_path)\n",
    "with open(list_path, 'r') as text_list:\n",
    "    current_list = text_list.readlines()\n",
    "    old_list = set(item.rstrip() for item in current_list)\n",
    "    new_files = [x for x in dir_path if x not in old_list]\n",
    "text_list.close()\n",
    "print(\"----New files in the directory and not saved to the list----\")\n",
    "print(new_files)\n",
    "print(\"----------------------------------------------------------------\")\n",
    "print(\"----------------------------------------------------------------\")\n",
    "\n",
    "#------------Adding/appending the new filenames to the file list\n",
    "print(\"----List is updating, please wait----\")\n",
    "update_list = open('YOUR_LIST_NAME.txt', 'a')\n",
    "for new_item in new_files:\n",
    "    update_list.write(new_item + \"\\n\")\n",
    "update_list.close()    \n",
    "print(\"----------------------------------------------------------------\")\n",
    "print(\"----------------------------------------------------------------\")\n",
    "#------------Checking the updated list\n",
    "check_list = open('YOUR_LIST_NAME.txt', 'r')\n",
    "lines = check_list.readlines()\n",
    "print(\"----Updated List----\")\n",
    "for x in lines:\n",
    "    print(x)\n",
    "print(\"----------------------------------------------------------------\")\n",
    "print(\"----------------------------------------------------------------\")\n",
    "print(\"----Script End----\")\n"
   ]
  },
  {
   "cell_type": "code",
   "execution_count": null,
   "metadata": {},
   "outputs": [],
   "source": []
  },
  {
   "cell_type": "code",
   "execution_count": null,
   "metadata": {},
   "outputs": [],
   "source": []
  },
  {
   "cell_type": "code",
   "execution_count": null,
   "metadata": {},
   "outputs": [],
   "source": []
  }
 ],
 "metadata": {
  "kernelspec": {
   "display_name": "Python 3",
   "language": "python",
   "name": "python3"
  },
  "language_info": {
   "codemirror_mode": {
    "name": "ipython",
    "version": 3
   },
   "file_extension": ".py",
   "mimetype": "text/x-python",
   "name": "python",
   "nbconvert_exporter": "python",
   "pygments_lexer": "ipython3",
   "version": "3.7.7"
  }
 },
 "nbformat": 4,
 "nbformat_minor": 4
}
