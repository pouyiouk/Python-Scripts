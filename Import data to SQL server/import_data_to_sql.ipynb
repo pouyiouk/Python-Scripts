#--------------------------------------------------------------------------------
#--------------------------------------------------------------------------------
#-------Reading a CSV file and importing data into an SQL server instance--------
import pandas as pd
import pyodbc
import csv

# Read the csv file and add into a dataframe to be used for later 
tsv_file = open (r'your_path_to_your_tsv_file')
read_tsv = csv.reader(tsv_file, delimiter="\t")
dataframe = pd.DataFrame(read_tsv, columns= ['columns_are_placed_here_according_to_your_tsv_file'])

# Connection with the SQL Server (Windows OS) (Microsoft SQL Server, please change with your parameters. Works with all SQL engines.
conn = pyodbc.connect('Driver={SQL Server};'
                      'Server=YOUR_SERVER_NAME;'
                      'Database=YOUR_DATABASE_NAME;'
                      'Trusted_Connection=yes;')
cursor = conn.cursor()
#Import data into sql server
# Create Table
cursor.execute('CREATE TABLE YOUR_TABLE_NAME (COLUMN1 int, COLUMN2 nvarchar(256),COLUMN3 nvarchar(256))')

# Insert DataFrame to Table
for row in dataframe.itertuples():
    cursor.execute('''
                INSERT INTO YOUR_DATABASE_NAME.dbo.YOUR_TABLE_NAME (COLUMN1,COLUMN2,COLUMN3)
                VALUES (?,?,?) #according to the number of columns/data fields you specify in the creation of the table, insert as many '?'
                ''',
                row.COLUMN1, 
                row.COLUMN2,
                row.COLUMN3,
                )
conn.commit()
