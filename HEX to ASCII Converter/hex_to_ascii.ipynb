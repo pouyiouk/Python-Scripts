{
 "cells": [
  {
   "cell_type": "code",
   "execution_count": 18,
   "metadata": {},
   "outputs": [
    {
     "name": "stdout",
     "output_type": "stream",
     "text": [
      "hello world\n"
     ]
    },
    {
     "data": {
      "text/plain": [
       "'test message'"
      ]
     },
     "execution_count": 18,
     "metadata": {},
     "output_type": "execute_result"
    }
   ],
   "source": [
    "#--------------------------------------------------------------------------------\n",
    "#--------------------------------------------------------------------------------\n",
    "#Simple implementation to convert hexadecimal string to ASCII format string\n",
    "\n",
    "def hex2ascii(hex_string):\n",
    "\n",
    "    # initialize the ASCII code string as empty.\n",
    "    ascii_text = \"\"\n",
    "\n",
    "    for i in range(0, len(hex_string), 2):\n",
    "        part = hex_string[i : i + 2]\n",
    "    #base 16\n",
    "        ch = chr(int(part, 16))\n",
    "        ascii_text += ch\n",
    "    return ascii_text\n",
    "\n",
    "print(hex2ascii(\"68656c6c6f20776f726c64\"))\n",
    "\n",
    "#another simpler way to do it by just calling the (.fromhex) and (.decode) functions directly\n",
    "bytearray.fromhex(\"74657374206d657373616765\").decode()\n"
   ]
  },
  {
   "cell_type": "code",
   "execution_count": null,
   "metadata": {},
   "outputs": [],
   "source": []
  }
 ],
 "metadata": {
  "kernelspec": {
   "display_name": "Python 3",
   "language": "python",
   "name": "python3"
  },
  "language_info": {
   "codemirror_mode": {
    "name": "ipython",
    "version": 3
   },
   "file_extension": ".py",
   "mimetype": "text/x-python",
   "name": "python",
   "nbconvert_exporter": "python",
   "pygments_lexer": "ipython3",
   "version": "3.7.7"
  }
 },
 "nbformat": 4,
 "nbformat_minor": 4
}
