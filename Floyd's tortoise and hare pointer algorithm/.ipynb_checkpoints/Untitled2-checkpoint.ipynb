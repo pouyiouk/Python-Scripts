{
 "cells": [
  {
   "cell_type": "code",
   "execution_count": null,
   "metadata": {},
   "outputs": [],
   "source": [
    "# Python3 program to convert hexadecimal\n",
    "# string to ASCII format string\n",
    "\n",
    "def hexToASCII(hexx):\n",
    "\n",
    "\t# initialize the ASCII code string as empty.\n",
    "\tasci = \"\"\n",
    "\n",
    "\tfor i in range(0, len(hexx), 2):\n",
    "\n",
    "\t\t# extract two characters from hex string\n",
    "\t\tpart = hexx[i : i + 2]\n",
    "\n",
    "\t\t# change it into base 16 and\n",
    "\t\t# typecast as the character\n",
    "\t\tch = chr(int(part, 16))\n",
    "\n",
    "\t\t# add this char to final ASCII string\n",
    "\t\tasci += ch\n",
    "\t\n",
    "\treturn asci\n",
    "\n",
    "# Driver Code\n",
    "if __name__ == \"__main__\":\n",
    "\n",
    "\t# print the ASCII string.\n",
    "\tprint(hexToASCII(\"6765656b73\"))\n",
    "\n",
    "# This code is contributed by\n",
    "# sanjeev2552\n"
   ]
  }
 ],
 "metadata": {
  "kernelspec": {
   "display_name": "Python 3",
   "language": "python",
   "name": "python3"
  },
  "language_info": {
   "codemirror_mode": {
    "name": "ipython",
    "version": 3
   },
   "file_extension": ".py",
   "mimetype": "text/x-python",
   "name": "python",
   "nbconvert_exporter": "python",
   "pygments_lexer": "ipython3",
   "version": "3.7.7"
  }
 },
 "nbformat": 4,
 "nbformat_minor": 4
}
