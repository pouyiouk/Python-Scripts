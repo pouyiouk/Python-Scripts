{
 "cells": [
  {
   "cell_type": "code",
   "execution_count": 1,
   "metadata": {},
   "outputs": [
    {
     "name": "stdout",
     "output_type": "stream",
     "text": [
      "----Duplicate element is:----\n",
      "1\n"
     ]
    }
   ],
   "source": [
    "#--------------------------------------------------------------------------------\n",
    "#--------------------------------------------------------------------------------\n",
    "#------Floyd's tortoise and hare pointer algorithm--------\n",
    "# A simple yet quick implementation of the tortoise and hare algorithm\n",
    "# The hare moves twice as quickly as the tortoise and\n",
    "# the distance between them increases by 1 at each step.\n",
    "# Eventually both will meet at the same point.\n",
    "\n",
    "def identifyduplicate(num):\n",
    "    tortoise = num[0]\n",
    "    hare = num[0] \n",
    "    while True:\n",
    "        tortosie = num[tortoise]\n",
    "        hare = num[num[hare]]\n",
    "        if tortoise == hare:\n",
    "            break\n",
    "        \n",
    "    pointer = num[0]\n",
    "    pointer1 = tortoise\n",
    "    while pointer != pointer1:\n",
    "        pointer = num[pointer]\n",
    "        pointer1 = num[pointer1]       \n",
    "    return pointer\n",
    "\n",
    "print(\"----Duplicate element is:----\")\n",
    "print(identifyduplicate([1,2,3,4,5,6,1]))"
   ]
  }
 ],
 "metadata": {
  "kernelspec": {
   "display_name": "Python 3",
   "language": "python",
   "name": "python3"
  },
  "language_info": {
   "codemirror_mode": {
    "name": "ipython",
    "version": 3
   },
   "file_extension": ".py",
   "mimetype": "text/x-python",
   "name": "python",
   "nbconvert_exporter": "python",
   "pygments_lexer": "ipython3",
   "version": "3.7.7"
  }
 },
 "nbformat": 4,
 "nbformat_minor": 4
}
